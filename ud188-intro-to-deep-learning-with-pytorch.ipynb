{
 "cells": [
  {
   "cell_type": "markdown",
   "metadata": {},
   "source": [
    "# UD188 Intro to Deep Learning with PyTorch\n",
    "\n",
    "## Course Overview\n",
    "\n",
    "1. Welcome\n",
    "2. Introduction to Neural Networks\n",
    "3. Talking PyTorch with Soumith Chintala\n",
    "4. Introduction to PyTorch\n",
    "5. Convolutional Neural Networks\n",
    "6. Style Transfer\n",
    "7. Recurrent Neural Networks\n",
    "8. Sentiment Prediction RNNs\n",
    "9. Deploying with PyTorch\n",
    "\n",
    "Clone the repo from Github via the command line with\n",
    "\n",
    "    git clone https://github.com/udacity/deep-learning-v2-pytorch.git\n",
    "\n",
    "## Lesson 2: Introduction to Deep Learning\n",
    "\n",
    "### 2.10 Perceptron Algorithm"
   ]
  },
  {
   "cell_type": "code",
   "execution_count": 7,
   "metadata": {
    "collapsed": true
   },
   "outputs": [],
   "source": [
    "import numpy as np\n",
    "# Setting the random seed, feel free to change it and see different solutions.\n",
    "np.random.seed(42)\n",
    "\n",
    "def stepFunction(t):\n",
    "    if t >= 0:\n",
    "        return 1\n",
    "    return 0\n",
    "\n",
    "def prediction(X, W, b):\n",
    "    return stepFunction((np.matmul(X,W)+b)[0])\n",
    "\n",
    "# TODO: Fill in the code below to implement the perceptron trick.\n",
    "# The function should receive as inputs the data X, the labels y,\n",
    "# the weights W (as an array), and the bias b,\n",
    "# update the weights and bias W, b, according to the perceptron algorithm,\n",
    "# and return W and b.\n",
    "def perceptronStep(X, y, W, b, learn_rate = 0.01):\n",
    "    # Fill in code\n",
    "    for index, label in enumerate(y):\n",
    "        if label != prediction(X[index], W, b):\n",
    "            W += (1 - 2*label) * learn_rate * X[index]\n",
    "            b += (1 - 2*label) * learn_rate\n",
    "    return W, b"
   ]
  },
  {
   "cell_type": "code",
   "execution_count": 9,
   "metadata": {
    "collapsed": false
   },
   "outputs": [
    {
     "name": "stdout",
     "output_type": "stream",
     "text": [
      "[[1 2]\n",
      " [3 4]]\n",
      "[1 2]\n",
      "[1 2]\n",
      "[1 2]\n"
     ]
    }
   ],
   "source": [
    "x = np.array([[1,2],[3,4]])\n",
    "print (x)\n",
    "print (x[0,:])\n",
    "print (x[0])\n",
    "print (np.transpose(x[0,:]))"
   ]
  },
  {
   "cell_type": "markdown",
   "metadata": {},
   "source": [
    "### 2.15 Softmax"
   ]
  },
  {
   "cell_type": "code",
   "execution_count": 10,
   "metadata": {
    "collapsed": false
   },
   "outputs": [
    {
     "name": "stdout",
     "output_type": "stream",
     "text": [
      "<class 'list'>\n",
      "<class 'numpy.ndarray'>\n",
      "[0.011656230956039607, 0.03168492079612427, 0.0861285444362687, 0.23412165725273662, 0.6364086465588308]\n"
     ]
    }
   ],
   "source": [
    "L = [1,2,3,4,5]\n",
    "print (type(L))\n",
    "print (type(np.exp(L)))\n",
    "print (list(np.exp(L)/np.sum(np.exp(L))))"
   ]
  },
  {
   "cell_type": "markdown",
   "metadata": {},
   "source": [
    "### 2.20 Cross Entropy 2"
   ]
  },
  {
   "cell_type": "code",
   "execution_count": 11,
   "metadata": {
    "collapsed": true
   },
   "outputs": [],
   "source": [
    "def cross_entropy(Y, P):\n",
    "    return -np.sum(np.float_(Y) * np.log(np.float_(P)) + (1 - np.float_(Y)) * np.log(1 - np.float_(P)))"
   ]
  },
  {
   "cell_type": "markdown",
   "metadata": {},
   "source": [
    "### 2.25 Pre-Notebook: Gradient Decent\n",
    "\n",
    "Open the notebook\n",
    "\n",
    "     deep-learning-v2-pytorch/intro-neural-networks/gradient-descent/GradientDescent.ipynb\n",
    "\n",
    "Here we implement the functions that build the gradient descent algorithm, namely:\n",
    "\n",
    "- **sigmoid:** The sigmoid activation function.\n",
    "- **output_formula:** The formula for the prediction.\n",
    "- **error_formula:** The formula for the error at a point.\n",
    "- **update_weights:** The function that updates the parameters with one gradient descent step."
   ]
  },
  {
   "cell_type": "code",
   "execution_count": 12,
   "metadata": {
    "collapsed": false
   },
   "outputs": [
    {
     "name": "stdout",
     "output_type": "stream",
     "text": [
      "3.6.2 |Continuum Analytics, Inc.| (default, Jul 20 2017, 13:14:59) \n",
      "[GCC 4.2.1 Compatible Apple LLVM 6.0 (clang-600.0.57)]\n",
      "Solving environment: - \b\b\\ \b\b| \b\b/ \b\b- \b\b\\ \b\b| \b\b/ \b\b- \b\b\\ \b\b| \b\b/ \b\b- \b\b\\ \b\b| \b\b/ \b\b- \b\b\\ \b\b| \b\b/ \b\b- \b\b\\ \b\b| \b\b/ \b\b- \b\b\\ \b\b| \b\b/ \b\b- \b\b\\ \b\b| \b\b/ \b\b- \b\b\\ \b\b| \b\b/ \b\b- \b\b\\ \b\b| \b\b/ \b\b- \b\b\\ \b\b| \b\b/ \b\b- \b\b\\ \b\b| \b\b/ \b\b- \b\b\\ \b\b| \b\b/ \b\b- \b\b\\ \b\b| \b\b/ \b\b- \b\b\\ \b\b| \b\b/ \b\b- \b\b\\ \b\b| \b\b/ \b\b- \b\b\\ \b\b| \b\b/ \b\b- \b\b\\ \b\b| \b\b/ \b\b- \b\b\\ \b\b| \b\b/ \b\b- \b\b\\ \b\b| \b\b/ \b\b- \b\b\\ \b\b| \b\b/ \b\b- \b\b\\ \b\b| \b\b/ \b\b- \b\b\\ \b\b| \b\b/ \b\b- \b\b\\ \b\b| \b\b/ \b\b- \b\b\\ \b\b| \b\b/ \b\b- \b\b\\ \b\b| \b\b/ \b\b- \b\b\\ \b\b| \b\b/ \b\b- \b\b\\ \b\b| \b\b/ \b\b- \b\bdone\n",
      "\n",
      "# All requested packages already installed.\n",
      "\n"
     ]
    }
   ],
   "source": [
    "import sys\n",
    "\n",
    "print (sys.version)\n",
    "!conda install --yes --prefix {sys.prefix} matplotlib"
   ]
  },
  {
   "cell_type": "code",
   "execution_count": 13,
   "metadata": {
    "collapsed": false
   },
   "outputs": [
    {
     "name": "stdout",
     "output_type": "stream",
     "text": [
      "Solving environment: - \b\b\\ \b\b| \b\b/ \b\b- \b\b\\ \b\b| \b\b/ \b\b- \b\b\\ \b\b| \b\b/ \b\b- \b\b\\ \b\b| \b\b/ \b\b- \b\b\\ \b\b| \b\b/ \b\b- \b\b\\ \b\b| \b\b/ \b\b- \b\b\\ \b\b| \b\b/ \b\b- \b\b\\ \b\b| \b\b/ \b\b- \b\b\\ \b\b| \b\b/ \b\b- \b\b\\ \b\b| \b\b/ \b\b- \b\b\\ \b\b| \b\b/ \b\b- \b\b\\ \b\b| \b\b/ \b\b- \b\b\\ \b\b| \b\b/ \b\b- \b\b\\ \b\b| \b\b/ \b\b- \b\b\\ \b\b| \b\b/ \b\b- \b\b\\ \b\b| \b\b/ \b\b- \b\b\\ \b\b| \b\b/ \b\b- \b\b\\ \b\b| \b\b/ \b\b- \b\b\\ \b\b| \b\b/ \b\b- \b\b\\ \b\b| \b\b/ \b\b- \b\b\\ \b\b| \b\b/ \b\b- \b\b\\ \b\b| \b\b/ \b\b- \b\b\\ \b\b| \b\b/ \b\b- \b\b\\ \b\b| \b\b/ \b\b- \b\b\\ \b\b| \b\b/ \b\b- \b\b\\ \b\b| \b\bdone\n",
      "\n",
      "# All requested packages already installed.\n",
      "\n"
     ]
    }
   ],
   "source": [
    "!conda install --yes --prefix {sys.prefix} pandas"
   ]
  },
  {
   "cell_type": "markdown",
   "metadata": {},
   "source": [
    "### 2.31 Neural Network Architecture"
   ]
  },
  {
   "cell_type": "code",
   "execution_count": 15,
   "metadata": {
    "collapsed": false
   },
   "outputs": [
    {
     "name": "stdout",
     "output_type": "stream",
     "text": [
      "0.9168273035060777\n",
      "0.8807970779778823\n",
      "0.8021838885585818\n"
     ]
    }
   ],
   "source": [
    "def sigmoid(x):\n",
    "    return 1 / (1 + np.exp(-x))\n",
    "\n",
    "def prob(w1, w2, b):\n",
    "    return sigmoid(0.4*w1 + 0.6*w2 + b)\n",
    "\n",
    "print (prob(2, 6, -2))\n",
    "print (prob(3, 5, -2.2))\n",
    "print (prob(5, 4, -3))"
   ]
  },
  {
   "cell_type": "markdown",
   "metadata": {},
   "source": [
    "### 2.34 Pre-Notebook: Analysing Student Data\n",
    "\n",
    "Open the notebook\n",
    "\n",
    "    deep-learning-v2-pytorch/intro-neural-networks/student_admissions/StudentAdmissions.ipynb\n",
    "    \n",
    "Here we\n",
    "\n",
    "- One-hot encode the data\n",
    "- Scale the data\n",
    "- Write the backpropagation step\n",
    "\n",
    "## Lesson 4: Introduction to PyTorch\n",
    "\n",
    "In this lesson, we learn how to use PyTorch for building deep learning models. PyTorch was released in early 2017 and has been making a pretty big impact in the deep learning community. It's developed as an open source project by the Facebook AI Research team, but is being adopted by teams everywhere in industry and academia. By the end of this lesson, we'll have trained our own deep learning model that can classify images of cats and dogs.\n",
    "\n",
    "We'll first do a basic introduction to PyTorch, where we'll cover tensors - the main data structure of PyTorch. We'll see how to create tensors, how to do simple operations, and how tensors interact with NumPy.\n",
    "\n",
    "Then we'll learn about a module called autograd that PyTorch uses to calculate gradients for training neural networks. Autograd, is amazing. It does all the work of backpropagation for you by calculating the gradients at each operation in the network which you can then use to update the network weights.\n",
    "\n",
    "Next we'll use PyTorch to build a network and run data forward through it. After that, we'll define a loss and an optimization method to train the neural network on a dataset of handwritten digits. We'll also learn how to test that our network is able to generalize through validation.\n",
    "\n",
    "However, we'll find that our network doesn't work too well with more complex images. We'll learn how to use pre-trained networks to improve the performance of our classifier, a technique known as transfer learning.\n",
    "\n",
    "But before we can do all that, we need to [install pytorch](https://pytorch.org/get-started/locally/)."
   ]
  },
  {
   "cell_type": "code",
   "execution_count": 17,
   "metadata": {
    "collapsed": false
   },
   "outputs": [
    {
     "name": "stdout",
     "output_type": "stream",
     "text": [
      "Solving environment: - \b\b\\ \b\b| \b\b/ \b\b- \b\b\\ \b\b| \b\b/ \b\b- \b\b\\ \b\b| \b\b/ \b\b- \b\b\\ \b\b| \b\b/ \b\b- \b\b\\ \b\b| \b\b/ \b\b- \b\b\\ \b\b| \b\b/ \b\b- \b\b\\ \b\b| \b\b/ \b\b- \b\b\\ \b\b| \b\b/ \b\b- \b\b\\ \b\b| \b\b/ \b\b- \b\b\\ \b\b| \b\b/ \b\b- \b\b\\ \b\b| \b\b/ \b\b- \b\b\\ \b\b| \b\b/ \b\b- \b\b\\ \b\b| \b\b/ \b\b- \b\b\\ \b\b| \b\b/ \b\b- \b\b\\ \b\b| \b\b/ \b\b- \b\b\\ \b\b| \b\b/ \b\b- \b\b\\ \b\b| \b\b/ \b\b- \b\b\\ \b\b| \b\b/ \b\b- \b\b\\ \b\b| \b\b/ \b\b- \b\b\\ \b\b| \b\b/ \b\b- \b\b\\ \b\b| \b\b/ \b\b- \b\b\\ \b\b| \b\b/ \b\b- \b\b\\ \b\b| \b\b/ \b\b- \b\b\\ \b\b| \b\b/ \b\b- \b\b\\ \b\b| \b\b/ \b\b- \b\b\\ \b\b| \b\b/ \b\b- \b\b\\ \b\b| \b\b/ \b\b- \b\b\\ \b\b| \b\b/ \b\b- \b\b\\ \b\b| \b\b/ \b\b- \b\b\\ \b\b| \b\b/ \b\b- \b\b\\ \b\b| \b\b/ \b\b- \b\b\\ \b\b| \b\b/ \b\b- \b\b\\ \b\b| \b\b/ \b\b- \b\b\\ \b\b| \b\b/ \b\b- \b\b\\ \b\b| \b\b/ \b\b- \b\b\\ \b\b| \b\b/ \b\b- \b\b\\ \b\b| \b\b/ \b\b- \b\b\\ \b\b| \b\b/ \b\b- \b\b\\ \b\b| \b\b/ \b\b- \b\b\\ \b\b| \b\b/ \b\bdone\n",
      "\n",
      "## Package Plan ##\n",
      "\n",
      "  environment location: /anaconda/envs/ipykernel_py3\n",
      "\n",
      "  added / updated specs: \n",
      "    - pytorch\n",
      "    - torchvision\n",
      "\n",
      "\n",
      "The following packages will be downloaded:\n",
      "\n",
      "    package                    |            build\n",
      "    ---------------------------|-----------------\n",
      "    torchvision-0.2.1          |           py36_1         123 KB  pytorch\n",
      "    libtiff-4.0.9              |       hcb84e12_2         544 KB\n",
      "    intel-openmp-2019.1        |              144         1.1 MB\n",
      "    pycparser-2.19             |           py36_0         173 KB\n",
      "    olefile-0.46               |           py36_0          48 KB\n",
      "    cffi-1.11.5                |   py36h6174b99_1         205 KB\n",
      "    ninja-1.8.2                |   py36h04f5b5a_1          93 KB\n",
      "    mkl-2019.1                 |              144       154.4 MB\n",
      "    pytorch-1.0.0              |          py3.6_1        27.0 MB  pytorch\n",
      "    jpeg-9b                    |       he5867d9_2         236 KB\n",
      "    pillow-5.3.0               |   py36hb68e598_0         550 KB\n",
      "    ------------------------------------------------------------\n",
      "                                           Total:       184.5 MB\n",
      "\n",
      "The following NEW packages will be INSTALLED:\n",
      "\n",
      "    cffi:         1.11.5-py36h6174b99_1        \n",
      "    intel-openmp: 2019.1-144                   \n",
      "    jpeg:         9b-he5867d9_2                \n",
      "    libtiff:      4.0.9-hcb84e12_2             \n",
      "    ninja:        1.8.2-py36h04f5b5a_1         \n",
      "    olefile:      0.46-py36_0                  \n",
      "    pillow:       5.3.0-py36hb68e598_0         \n",
      "    pycparser:    2.19-py36_0                  \n",
      "    pytorch:      1.0.0-py3.6_1         pytorch\n",
      "    torchvision:  0.2.1-py36_1          pytorch\n",
      "\n",
      "The following packages will be UPDATED:\n",
      "\n",
      "    mkl:          2017.0.3-0                    --> 2019.1-144\n",
      "\n",
      "\n",
      "Downloading and Extracting Packages\n",
      "torchvision-0.2.1    | 123 KB    | ##################################### | 100% \n",
      "libtiff-4.0.9        | 544 KB    | ##################################### | 100% \n",
      "intel-openmp-2019.1  | 1.1 MB    | ##################################### | 100% \n",
      "pycparser-2.19       | 173 KB    | ##################################### | 100% \n",
      "olefile-0.46         | 48 KB     | ##################################### | 100% \n",
      "cffi-1.11.5          | 205 KB    | ##################################### | 100% \n",
      "ninja-1.8.2          | 93 KB     | ##################################### | 100% \n",
      "mkl-2019.1           | 154.4 MB  | ##################################### | 100% \n",
      "pytorch-1.0.0        | 27.0 MB   | ##################################### | 100% \n",
      "jpeg-9b              | 236 KB    | ##################################### | 100% \n",
      "pillow-5.3.0         | 550 KB    | ##################################### | 100% \n",
      "Preparing transaction: \\ \b\b| \b\b/ \b\bdone\n",
      "Verifying transaction: \\ \b\b| \b\b/ \b\b- \b\b\\ \b\b| \b\b/ \b\b- \b\b\\ \b\b| \b\b/ \b\b- \b\b\\ \b\b| \b\b/ \b\b- \b\b\\ \b\b| \b\b/ \b\b- \b\b\\ \b\b| \b\b/ \b\b- \b\b\\ \b\b| \b\b/ \b\b- \b\b\\ \b\b| \b\b/ \b\b- \b\b\\ \b\b| \b\b/ \b\b- \b\b\\ \b\b| \b\b/ \b\b- \b\b\\ \b\b| \b\b/ \b\b- \b\b\\ \b\b| \b\b/ \b\b- \b\b\\ \b\b| \b\b/ \b\b- \b\bdone\n",
      "Executing transaction: | \b\b/ \b\b- \b\b\\ \b\b| \b\b/ \b\b- \b\b\\ \b\b| \b\b/ \b\b- \b\b\\ \b\b| \b\bdone\n"
     ]
    }
   ],
   "source": [
    "!conda install --yes --prefix {sys.prefix} pytorch torchvision -c pytorch"
   ]
  },
  {
   "cell_type": "markdown",
   "metadata": {},
   "source": [
    "### 4.0 Welcome!\n",
    "\n",
    "The notebooks are here:\n",
    "\n",
    "    deep-learning-v2-pytorch/intro-to-pytorch/\n",
    "\n",
    "### 4.1 Part 1 - Tensors in PyTorch\n",
    "\n",
    "- Introducing Tensors in PyTorch\n",
    "- Arithmentic with Tensors (dot and matrix multiplication\n",
    "- Converting between PyTorch Tensors and NumPy arrays\n",
    "\n",
    "### 4.6 Part 2 - Neural Networks in PyTorch\n",
    "\n",
    "- Using the nn module to build neural networks\n",
    "- Using torch.nn.functional for activation functions\n",
    "- Looking at Network parameters (weights and biases)\n",
    "- Looking at your model architecture\n",
    "\n",
    "### 4.9 Part 3 - Training Neural Networks\n",
    "\n",
    "- Defining the loss\n",
    "- Calculating gradients with Autograd\n",
    "- Optimisers in optim\n",
    "\n",
    "### 4.12 Part 4 - Fashion-MNIST\n",
    "\n",
    "- Build a neural network\n",
    "- Train it\n",
    "- Make predictions\n",
    "\n",
    "### 4.14 Part 5 - Inference and Validation\n",
    "\n",
    "- Turning probabilities into predictions with topk\n",
    "- Comparing training and test set performance\n",
    "- Adding Dropout\n",
    "\n",
    "### 4.17 Part 6 - Saving and Loading Models\n",
    "\n",
    "- Saving the model architecture and weights\n",
    "- Loading a model arhitecture and weights\n",
    "\n",
    "### 4.18 Part 7 - Loading Image Data\n",
    "\n",
    "- Loading data\n",
    "- Data Augmentation\n",
    "\n",
    "### 4. Part 8 - Transfer Learning\n"
   ]
  },
  {
   "cell_type": "code",
   "execution_count": null,
   "metadata": {
    "collapsed": true
   },
   "outputs": [],
   "source": []
  },
  {
   "cell_type": "code",
   "execution_count": null,
   "metadata": {
    "collapsed": true
   },
   "outputs": [],
   "source": []
  },
  {
   "cell_type": "code",
   "execution_count": null,
   "metadata": {
    "collapsed": true
   },
   "outputs": [],
   "source": []
  },
  {
   "cell_type": "code",
   "execution_count": null,
   "metadata": {
    "collapsed": true
   },
   "outputs": [],
   "source": []
  },
  {
   "cell_type": "code",
   "execution_count": null,
   "metadata": {
    "collapsed": true
   },
   "outputs": [],
   "source": []
  }
 ],
 "metadata": {
  "kernelspec": {
   "display_name": "Python 3",
   "language": "python",
   "name": "python3"
  },
  "language_info": {
   "codemirror_mode": {
    "name": "ipython",
    "version": 3
   },
   "file_extension": ".py",
   "mimetype": "text/x-python",
   "name": "python",
   "nbconvert_exporter": "python",
   "pygments_lexer": "ipython3",
   "version": "3.6.7"
  }
 },
 "nbformat": 4,
 "nbformat_minor": 2
}
